{
 "cells": [
  {
   "cell_type": "code",
   "execution_count": 1,
   "metadata": {},
   "outputs": [],
   "source": [
    "data = [\n",
    "    {\n",
    "        \"vendor_name\": \"VTS\",\n",
    "        \"record_hash\": \"b00361a396177a9cb410ff61f20015ad\",\n",
    "        \"time\": {\n",
    "            \"pickup\": \"2009-06-14 23:23:00\",\n",
    "            \"dropoff\": \"2009-06-14 23:48:00\"\n",
    "        },\n",
    "        \"coordinates\": {\n",
    "            \"start\": {\"lon\": -73.787442, \"lat\": 40.641525},\n",
    "            \"end\": {\"lon\": -73.980072, \"lat\": 40.742963}\n",
    "        },\n",
    "        \"passengers\": [\n",
    "            {\"name\": \"John\", \"rating\": 4.9},\n",
    "            {\"name\": \"Jack\", \"rating\": 3.9}\n",
    "        ]\n",
    "    }\n",
    "]"
   ]
  },
  {
   "cell_type": "code",
   "execution_count": 2,
   "metadata": {},
   "outputs": [
    {
     "name": "stdout",
     "output_type": "stream",
     "text": [
      "Pipeline ny_taxi_data load step completed in 0.15 seconds\n",
      "1 load package(s) were loaded to destination duckdb and into dataset taxi_rides\n",
      "The duckdb destination used duckdb:////home/hbg/data-engineering-zoomcamp/workshops/dlt/ny_taxi_data.duckdb location to store data\n",
      "Load package 1739613756.1137662 is LOADED and contains no failed jobs\n",
      "Run started at 2025-02-15 10:02:36.047640+00:00 and COMPLETED in 0.49 seconds with 4 steps.\n",
      "Step extract COMPLETED in 0.05 seconds.\n",
      "\n",
      "Load package 1739613756.1137662 is EXTRACTED and NOT YET LOADED to the destination and contains no failed jobs\n",
      "\n",
      "Step normalize COMPLETED in 0.04 seconds.\n",
      "Normalized data for the following tables:\n",
      "- rides: 1 row(s)\n",
      "- rides__passengers: 2 row(s)\n",
      "- _dlt_pipeline_state: 1 row(s)\n",
      "\n",
      "Load package 1739613756.1137662 is NORMALIZED and NOT YET LOADED to the destination and contains no failed jobs\n",
      "\n",
      "Step load COMPLETED in 0.34 seconds.\n",
      "Pipeline ny_taxi_data load step completed in 0.15 seconds\n",
      "1 load package(s) were loaded to destination duckdb and into dataset taxi_rides\n",
      "The duckdb destination used duckdb:////home/hbg/data-engineering-zoomcamp/workshops/dlt/ny_taxi_data.duckdb location to store data\n",
      "Load package 1739613756.1137662 is LOADED and contains no failed jobs\n",
      "\n",
      "Step run COMPLETED in 0.49 seconds.\n",
      "Pipeline ny_taxi_data load step completed in 0.15 seconds\n",
      "1 load package(s) were loaded to destination duckdb and into dataset taxi_rides\n",
      "The duckdb destination used duckdb:////home/hbg/data-engineering-zoomcamp/workshops/dlt/ny_taxi_data.duckdb location to store data\n",
      "Load package 1739613756.1137662 is LOADED and contains no failed jobs\n"
     ]
    }
   ],
   "source": [
    "import dlt\n",
    "\n",
    "# Define a dlt pipeline with automatic normalization\n",
    "pipeline = dlt.pipeline(\n",
    "    pipeline_name=\"ny_taxi_data\",\n",
    "    destination=\"duckdb\",\n",
    "    dataset_name=\"taxi_rides\",\n",
    ")\n",
    "\n",
    "# Run the pipeline with raw nested data\n",
    "info = pipeline.run(data, table_name=\"rides\", write_disposition=\"replace\")\n",
    "\n",
    "# Print the load summary\n",
    "print(info)\n",
    "\n",
    "print(pipeline.last_trace)"
   ]
  },
  {
   "cell_type": "code",
   "execution_count": 3,
   "metadata": {},
   "outputs": [
    {
     "data": {
      "text/html": [
       "<div>\n",
       "<style scoped>\n",
       "    .dataframe tbody tr th:only-of-type {\n",
       "        vertical-align: middle;\n",
       "    }\n",
       "\n",
       "    .dataframe tbody tr th {\n",
       "        vertical-align: top;\n",
       "    }\n",
       "\n",
       "    .dataframe thead th {\n",
       "        text-align: right;\n",
       "    }\n",
       "</style>\n",
       "<table border=\"1\" class=\"dataframe\">\n",
       "  <thead>\n",
       "    <tr style=\"text-align: right;\">\n",
       "      <th></th>\n",
       "      <th>vendor_name</th>\n",
       "      <th>record_hash</th>\n",
       "      <th>time__pickup</th>\n",
       "      <th>time__dropoff</th>\n",
       "      <th>coordinates__start__lon</th>\n",
       "      <th>coordinates__start__lat</th>\n",
       "      <th>coordinates__end__lon</th>\n",
       "      <th>coordinates__end__lat</th>\n",
       "      <th>_dlt_load_id</th>\n",
       "      <th>_dlt_id</th>\n",
       "    </tr>\n",
       "  </thead>\n",
       "  <tbody>\n",
       "    <tr>\n",
       "      <th>0</th>\n",
       "      <td>VTS</td>\n",
       "      <td>b00361a396177a9cb410ff61f20015ad</td>\n",
       "      <td>2009-06-14 23:23:00+00:00</td>\n",
       "      <td>2009-06-14 23:48:00+00:00</td>\n",
       "      <td>-73.787442</td>\n",
       "      <td>40.641525</td>\n",
       "      <td>-73.980072</td>\n",
       "      <td>40.742963</td>\n",
       "      <td>1739613756.1137662</td>\n",
       "      <td>ftST45XTlMltZw</td>\n",
       "    </tr>\n",
       "  </tbody>\n",
       "</table>\n",
       "</div>"
      ],
      "text/plain": [
       "  vendor_name                       record_hash              time__pickup  \\\n",
       "0         VTS  b00361a396177a9cb410ff61f20015ad 2009-06-14 23:23:00+00:00   \n",
       "\n",
       "              time__dropoff  coordinates__start__lon  coordinates__start__lat  \\\n",
       "0 2009-06-14 23:48:00+00:00               -73.787442                40.641525   \n",
       "\n",
       "   coordinates__end__lon  coordinates__end__lat        _dlt_load_id  \\\n",
       "0             -73.980072              40.742963  1739613756.1137662   \n",
       "\n",
       "          _dlt_id  \n",
       "0  ftST45XTlMltZw  "
      ]
     },
     "execution_count": 3,
     "metadata": {},
     "output_type": "execute_result"
    }
   ],
   "source": [
    "pipeline.dataset(dataset_type=\"default\").rides.df()"
   ]
  },
  {
   "cell_type": "code",
   "execution_count": 4,
   "metadata": {},
   "outputs": [
    {
     "data": {
      "text/html": [
       "<div>\n",
       "<style scoped>\n",
       "    .dataframe tbody tr th:only-of-type {\n",
       "        vertical-align: middle;\n",
       "    }\n",
       "\n",
       "    .dataframe tbody tr th {\n",
       "        vertical-align: top;\n",
       "    }\n",
       "\n",
       "    .dataframe thead th {\n",
       "        text-align: right;\n",
       "    }\n",
       "</style>\n",
       "<table border=\"1\" class=\"dataframe\">\n",
       "  <thead>\n",
       "    <tr style=\"text-align: right;\">\n",
       "      <th></th>\n",
       "      <th>name</th>\n",
       "      <th>rating</th>\n",
       "      <th>_dlt_parent_id</th>\n",
       "      <th>_dlt_list_idx</th>\n",
       "      <th>_dlt_id</th>\n",
       "    </tr>\n",
       "  </thead>\n",
       "  <tbody>\n",
       "    <tr>\n",
       "      <th>0</th>\n",
       "      <td>John</td>\n",
       "      <td>4.9</td>\n",
       "      <td>ftST45XTlMltZw</td>\n",
       "      <td>0</td>\n",
       "      <td>SHBVvEI4wX79Sw</td>\n",
       "    </tr>\n",
       "    <tr>\n",
       "      <th>1</th>\n",
       "      <td>Jack</td>\n",
       "      <td>3.9</td>\n",
       "      <td>ftST45XTlMltZw</td>\n",
       "      <td>1</td>\n",
       "      <td>uWFXIVXTJ/53HQ</td>\n",
       "    </tr>\n",
       "  </tbody>\n",
       "</table>\n",
       "</div>"
      ],
      "text/plain": [
       "   name  rating  _dlt_parent_id  _dlt_list_idx         _dlt_id\n",
       "0  John     4.9  ftST45XTlMltZw              0  SHBVvEI4wX79Sw\n",
       "1  Jack     3.9  ftST45XTlMltZw              1  uWFXIVXTJ/53HQ"
      ]
     },
     "execution_count": 4,
     "metadata": {},
     "output_type": "execute_result"
    }
   ],
   "source": [
    "pipeline.dataset(dataset_type=\"default\").rides__passengers.df()"
   ]
  }
 ],
 "metadata": {
  "kernelspec": {
   "display_name": "base",
   "language": "python",
   "name": "python3"
  },
  "language_info": {
   "codemirror_mode": {
    "name": "ipython",
    "version": 3
   },
   "file_extension": ".py",
   "mimetype": "text/x-python",
   "name": "python",
   "nbconvert_exporter": "python",
   "pygments_lexer": "ipython3",
   "version": "3.12.2"
  }
 },
 "nbformat": 4,
 "nbformat_minor": 2
}
